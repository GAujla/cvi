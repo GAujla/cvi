{
  "nbformat": 4,
  "nbformat_minor": 0,
  "metadata": {
    "colab": {
      "name": "cvi formulas.ipynb",
      "provenance": [],
      "collapsed_sections": []
    },
    "kernelspec": {
      "name": "python3",
      "display_name": "Python 3"
    }
  },
  "cells": [
    {
      "cell_type": "code",
      "metadata": {
        "id": "QGF_qnJZtz6W"
      },
      "source": [
        "#thin lens equation\n",
        "\n",
        "#given the distance of the object from the lens (u) and the distance of the image from the lens (v)\n",
        "def find_f(u,v):\n",
        "  (1/f) = (1/u) + (1/v)\n",
        "  print(f)\n",
        "  return f\n",
        "\n",
        "#given the distance of the object from the lens (u) and the focal length (f)\n",
        "def find_v(f,u):\n",
        "  (1/v) = (1/f) - (1/u)\n",
        "  print(v)\n",
        "  return v\n",
        "\n",
        "#given the distance of the distance of the image from the lens (v) and the focal length (f)\n",
        "def find_u(f,v):\n",
        "  (1/u) = (1/f) - (1/v)\n",
        "  print(u)\n",
        "  return u"
      ],
      "execution_count": null,
      "outputs": []
    },
    {
      "cell_type": "code",
      "metadata": {
        "id": "dweX3i87vYtJ"
      },
      "source": [
        ""
      ],
      "execution_count": null,
      "outputs": []
    },
    {
      "cell_type": "code",
      "metadata": {
        "id": "UREpbRGrvZHT"
      },
      "source": [
        ""
      ],
      "execution_count": null,
      "outputs": []
    }
  ]
}